{
 "cells": [
  {
   "cell_type": "code",
   "execution_count": 3,
   "metadata": {},
   "outputs": [],
   "source": [
    "import mysql.connector\n"
   ]
  },
  {
   "cell_type": "code",
   "execution_count": 23,
   "metadata": {},
   "outputs": [],
   "source": [
    "def crear_bbdd (contrasena, query):\n",
    "\n",
    "    cnx = mysql.connector.connect(user='root', password = contrasena, host='127.0.0.1')\n",
    "\n",
    "\n",
    "    mycursor = cnx.cursor()\n",
    "    try:\n",
    "        mycursor.execute(query)\n",
    "        print(mycursor)\n",
    "    except mysql.connector.Error as err:\n",
    "        print(err)\n",
    "        print(\"Error Code:\", err.errno)\n",
    "        print(\"SQLSTATE\", err.sqlstate)\n",
    "        print(\"Message\", err.msg)"
   ]
  },
  {
   "cell_type": "code",
   "execution_count": 34,
   "metadata": {},
   "outputs": [],
   "source": [
    "def crear_tabla (contrasena, query, nombre_database):\n",
    "\n",
    "    cnx = mysql.connector.connect(user='root', password = contrasena, host='127.0.0.1', database = nombre_database)\n",
    "    mycursor = cnx.cursor()\n",
    "\n",
    "    try:\n",
    "        mycursor.execute(query)\n",
    "        print(mycursor)\n",
    "    except mysql.connector.Error as err:\n",
    "        print(err)\n",
    "        print(\"Error Code:\", err.errno)\n",
    "        print(\"SQLSTATE\", err.sqlstate)\n",
    "        print(\"Message\", err.msg)\n",
    "        "
   ]
  },
  {
   "cell_type": "code",
   "execution_count": 24,
   "metadata": {},
   "outputs": [
    {
     "name": "stdout",
     "output_type": "stream",
     "text": [
      "CMySQLCursor: CREATE SCHEMA mi_primerita_BBDD_Python\n"
     ]
    }
   ],
   "source": [
    "crear_bbdd(\"AlumnaAdalab\", \"CREATE SCHEMA mi_primerita_BBDD_Python\")"
   ]
  },
  {
   "cell_type": "code",
   "execution_count": 35,
   "metadata": {},
   "outputs": [
    {
     "name": "stdout",
     "output_type": "stream",
     "text": [
      "CMySQLCursor: CREATE TABLE clientes (\n",
      "id_cliente INT N..\n"
     ]
    }
   ],
   "source": [
    "query = \"\"\"CREATE TABLE clientes (\n",
    "id_cliente INT NOT NULL AUTO_INCREMENT,\n",
    "nombre VARCHAR (45) NOT NULL,\n",
    "numero_telefono INT (9) NOT NULL,\n",
    "email VARCHAR (45) NOT NULL,\n",
    "direccion VARCHAR (45) NOT NULL,\n",
    "ciudad VARCHAR (45) DEFAULT NULL,\n",
    "provincia VARCHAR (45) NOT NULL,\n",
    "pais VARCHAR (45) NOT NULL,\n",
    "codigo_postal VARCHAR (45) NOT NULL,\n",
    "PRIMARY KEY (id_cliente)\n",
    ");\"\"\"\n",
    "crear_tabla (\"AlumnaAdalab\",query, \"mi_primerita_BBDD_Python\")"
   ]
  },
  {
   "cell_type": "code",
   "execution_count": 36,
   "metadata": {},
   "outputs": [
    {
     "name": "stdout",
     "output_type": "stream",
     "text": [
      "CMySQLCursor: CREATE TABLE empleados (\n",
      "id_empleado INT..\n"
     ]
    }
   ],
   "source": [
    "query = \"\"\"CREATE TABLE empleados (\n",
    "id_empleado INT NOT NULL AUTO_INCREMENT,\n",
    "nombre VARCHAR (45) NOT NULL,\n",
    "tienda VARCHAR (45) NOT NULL,\n",
    "salario INT DEFAULT NULL,\n",
    "fecha_incorporacion DATE NOT NULL,\n",
    "PRIMARY KEY (id_empleado)\n",
    ");\"\"\"\n",
    "crear_tabla (\"AlumnaAdalab\",query, \"mi_primerita_BBDD_Python\")"
   ]
  },
  {
   "cell_type": "code",
   "execution_count": 37,
   "metadata": {},
   "outputs": [
    {
     "name": "stdout",
     "output_type": "stream",
     "text": [
      "CMySQLCursor: CREATE TABLE zapatillas (\n",
      "id_zapatilla I..\n"
     ]
    }
   ],
   "source": [
    "query = \"\"\"CREATE TABLE zapatillas (\n",
    "id_zapatilla INT NOT NULL AUTO_INCREMENT,\n",
    "modelo VARCHAR (45) NOT NULL,\n",
    "color VARCHAR (45) NOT NULL,\n",
    "PRIMARY KEY (id_zapatilla)\n",
    ");\"\"\"\n",
    "crear_tabla (\"AlumnaAdalab\",query, \"mi_primerita_BBDD_Python\")"
   ]
  },
  {
   "cell_type": "code",
   "execution_count": 38,
   "metadata": {},
   "outputs": [
    {
     "name": "stdout",
     "output_type": "stream",
     "text": [
      "CMySQLCursor: CREATE TABLE facturas (\n",
      "id_factura INT N..\n"
     ]
    }
   ],
   "source": [
    "query = \"\"\"CREATE TABLE facturas (\n",
    "id_factura INT NOT NULL AUTO_INCREMENT,\n",
    "numero_factura VARCHAR (45) NOT NULL,\n",
    "fecha DATE NOT NULL,\n",
    "id_empleado INT NOT NULL, \n",
    "id_cliente INT NOT NULL,\n",
    "id_zapatilla INT NOT NULL,\n",
    "PRIMARY KEY (id_factura),\n",
    "INDEX `fk_id_empleado` (id_empleado),\n",
    "CONSTRAINT `fk_id_empleado`\n",
    "FOREIGN KEY (`id_empleado`)\n",
    "REFERENCES `empleados`(id_empleado),\n",
    "INDEX `fk_id_cliente` (id_cliente),\n",
    "CONSTRAINT `fk_id_cliente`\n",
    "FOREIGN KEY (`id_cliente`) \n",
    "REFERENCES `clientes`(id_cliente),\n",
    "INDEX `fk_id_zapatilla` (id_zapatilla),\n",
    "CONSTRAINT `fk_id_zapatilla`\n",
    "FOREIGN KEY (`id_zapatilla`)\n",
    "REFERENCES `zapatillas`(id_zapatilla)\n",
    ");\"\"\"\n",
    "crear_tabla (\"AlumnaAdalab\",query, \"mi_primerita_BBDD_Python\")"
   ]
  }
 ],
 "metadata": {
  "kernelspec": {
   "display_name": "Python 3.9.7 ('base')",
   "language": "python",
   "name": "python3"
  },
  "language_info": {
   "codemirror_mode": {
    "name": "ipython",
    "version": 3
   },
   "file_extension": ".py",
   "mimetype": "text/x-python",
   "name": "python",
   "nbconvert_exporter": "python",
   "pygments_lexer": "ipython3",
   "version": "3.9.7"
  },
  "orig_nbformat": 4,
  "vscode": {
   "interpreter": {
    "hash": "8e1f904fe714ccd05b7907fe541d28c2ec20b612a1af6f34d013e1f0fd7aabf1"
   }
  }
 },
 "nbformat": 4,
 "nbformat_minor": 2
}
