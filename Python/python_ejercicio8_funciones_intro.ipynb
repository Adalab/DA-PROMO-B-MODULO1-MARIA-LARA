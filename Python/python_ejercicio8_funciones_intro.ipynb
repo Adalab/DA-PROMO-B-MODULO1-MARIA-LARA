{
 "cells": [
  {
   "cell_type": "code",
   "execution_count": 1,
   "metadata": {},
   "outputs": [],
   "source": [
    "# EJERCICIO 1: tenemos 2 entradas de números, si una de ellas está vacía, queremos que nos devuelva la que NO lo está\n",
    "# si las dos están vacías, queremos que nos devuelva un cero\n",
    "# si tenemos dos números, queremos que nos los sume.\n",
    "\n",
    "def sumar(numero1,numero2):\n",
    "    if numero1 == '' and numero2 != '':\n",
    "        print(numero2)\n",
    "    elif numero1 == '' and numero2 == '':\n",
    "        print('0')\n",
    "    elif numero2 == '' and numero1 != '':\n",
    "        print(numero1)\n",
    "    else:\n",
    "        return str(int(numero1)+ int(numero2))"
   ]
  },
  {
   "cell_type": "code",
   "execution_count": 2,
   "metadata": {},
   "outputs": [
    {
     "data": {
      "text/plain": [
       "'-2'"
      ]
     },
     "execution_count": 2,
     "metadata": {},
     "output_type": "execute_result"
    }
   ],
   "source": [
    "sumar('-5','3')"
   ]
  },
  {
   "cell_type": "code",
   "execution_count": 11,
   "metadata": {},
   "outputs": [],
   "source": [
    "# EJERCICIO 2: Dadas dos listas queremos comparar elemento a elemento entre las dos y quedarnos con el mayor.\n",
    "\n",
    "def comparar(lista1,lista2):\n",
    "    resultados=[]\n",
    "    lista_zip= list(zip(lista1,lista2))\n",
    "    for i in lista_zip:\n",
    "        if i[0]>i[1]:\n",
    "            resultados.append(i[0])\n",
    "        elif i[0]==i[1]:\n",
    "            resultados.append(i[1])\n",
    "        else:\n",
    "            resultados.append(i[1])\n",
    "    return resultados\n",
    "\n",
    "\n"
   ]
  },
  {
   "cell_type": "code",
   "execution_count": 12,
   "metadata": {},
   "outputs": [
    {
     "data": {
      "text/plain": [
       "[23, 64, 53, 17, 88]"
      ]
     },
     "execution_count": 12,
     "metadata": {},
     "output_type": "execute_result"
    }
   ],
   "source": [
    "arr1 = [13, 64, 15, 17, 88]\n",
    "arr2 = [23, 14, 53, 17, 80]\n",
    "\n",
    "comparar(arr1,arr2)"
   ]
  },
  {
   "cell_type": "code",
   "execution_count": 27,
   "metadata": {},
   "outputs": [],
   "source": [
    "# EJERCICIO 3: Queremos codificar un string en \")\" y \"(\". transformando el string en un string de )(.\n",
    "# si la letra a sustituir está repetida en el string, la sustituimos por: \")\"\n",
    "# si la letra a sustituir sólo aparece una vez en el string, la sustituimos por: \"(\"\n",
    "\n",
    "def convertir(string):\n",
    "    string=string.upper()\n",
    "    lista= []\n",
    "    for i in string:\n",
    "        contador= string.count(i)\n",
    "        if contador != 1:\n",
    "            lista.append(')')\n",
    "        else:\n",
    "            lista.append('(')\n",
    "    return ''.join(lista)\n"
   ]
  },
  {
   "cell_type": "code",
   "execution_count": 28,
   "metadata": {},
   "outputs": [
    {
     "data": {
      "text/plain": [
       "'((()(()()))))(()('"
      ]
     },
     "execution_count": 28,
     "metadata": {},
     "output_type": "execute_result"
    }
   ],
   "source": [
    "convertir('Ocvl@GamFLAFkixkS')"
   ]
  },
  {
   "cell_type": "code",
   "execution_count": 44,
   "metadata": {},
   "outputs": [],
   "source": [
    "# BONUS 4:\n",
    "\n",
    "def hacer_tartas (ingredientes, recetas):\n",
    "    lista=[] \n",
    "    for i in ingredientes:\n",
    "        if i in recetas.keys():\n",
    "            ingred = ingredientes.get(i)\n",
    "            rec= recetas.get(i)\n",
    "            tarta= int(ingred/rec)\n",
    "            print('podemos hacer', tarta, 'de', i)\n",
    "            lista.append(tarta)\n",
    "    return print('----en total podemos hacer', min(lista), 'tartas----')\n",
    "\n",
    "\n",
    "        "
   ]
  },
  {
   "cell_type": "code",
   "execution_count": 48,
   "metadata": {},
   "outputs": [
    {
     "name": "stdout",
     "output_type": "stream",
     "text": [
      "podemos hacer 2 de flour\n",
      "podemos hacer 6 de sugar\n",
      "podemos hacer 5 de eggs\n",
      "----en total podemos hacer 2 tartas----\n"
     ]
    }
   ],
   "source": [
    "recetaa ={'flour': 500, 'sugar': 200, 'eggs': 1}\n",
    "ingredientess= {'flour': 1200, 'sugar': 1200, 'eggs': 5, 'milk': 200}\n",
    "\n",
    "hacer_tartas(ingredientess,recetaa)"
   ]
  },
  {
   "cell_type": "code",
   "execution_count": 7,
   "metadata": {},
   "outputs": [],
   "source": [
    "# BONUS 5:\n",
    "\n",
    "def calculadora (lista_numeros, operacion):\n",
    "    \n",
    "    if operacion == '+':\n",
    "        resultado= sum(lista_numeros)\n",
    "        return resultado\n",
    "    elif operacion == '*':\n",
    "        multiplicacion=1\n",
    "        for i in lista_numeros:\n",
    "            multiplicacion=multiplicacion*i\n",
    "        return multiplicacion \n",
    "    else:\n",
    "        print('Por favor, devuelvame un operador válido')\n",
    "    "
   ]
  },
  {
   "cell_type": "code",
   "execution_count": 10,
   "metadata": {},
   "outputs": [
    {
     "data": {
      "text/plain": [
       "10"
      ]
     },
     "execution_count": 10,
     "metadata": {},
     "output_type": "execute_result"
    }
   ],
   "source": [
    "lista=[1,2,3,4] \n",
    "str='+'\n",
    "calculadora(lista,str)"
   ]
  }
 ],
 "metadata": {
  "kernelspec": {
   "display_name": "Python 3.10.5 64-bit",
   "language": "python",
   "name": "python3"
  },
  "language_info": {
   "codemirror_mode": {
    "name": "ipython",
    "version": 3
   },
   "file_extension": ".py",
   "mimetype": "text/x-python",
   "name": "python",
   "nbconvert_exporter": "python",
   "pygments_lexer": "ipython3",
   "version": "3.10.5"
  },
  "orig_nbformat": 4,
  "vscode": {
   "interpreter": {
    "hash": "0adb82060a9e8277a0ab7cf318d2b014ae15a0943de91cc19dddffdec6eb64ba"
   }
  }
 },
 "nbformat": 4,
 "nbformat_minor": 2
}
