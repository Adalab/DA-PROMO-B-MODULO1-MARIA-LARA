{
 "cells": [
  {
   "cell_type": "code",
   "execution_count": null,
   "metadata": {},
   "outputs": [],
   "source": [
    "#¿Qué BBDD tenemos en nuestro servidor?\n",
    "import mysql.connector \n",
    "\n",
    "mydb = mysql.connector.connect(\n",
    "                  user='root', password='AlumnaAdalab',\n",
    "                  host='127.0.0.1')\n",
    "\n",
    "mycursor = mydb.cursor()\n",
    "\n",
    "mycursor.execute(\"SHOW DATABASES\")\n",
    "\n",
    "for x in mycursor:\n",
    "  print(x)\n",
    "\n"
   ]
  },
  {
   "cell_type": "code",
   "execution_count": null,
   "metadata": {},
   "outputs": [],
   "source": [
    "#¿Qué tablas componen la BBDD?\n",
    "\n",
    "mydb = mysql.connector.connect(\n",
    "              user='root', password='AlumnaAdalab',\n",
    "              host='127.0.0.1',\n",
    "              database='northwind'\n",
    ")\n",
    "\n",
    "mycursor = mydb.cursor()\n",
    "\n",
    "mycursor.execute(\"SHOW TABLES\")\n",
    "\n",
    "for x in mycursor:\n",
    "  print(x)"
   ]
  },
  {
   "cell_type": "code",
   "execution_count": null,
   "metadata": {},
   "outputs": [],
   "source": [
    "#REPASAR, NO FUNCIONA\n",
    "\n",
    "#¿Qué columnas tiene cada una de las tablas?\n",
    "\n",
    "mydb = mysql.connector.connect(\n",
    "              user='root', password='AlumnaAdalab',\n",
    "              host='127.0.0.1',\n",
    "              database='northwind')\n",
    "mycursor = mydb.cursor()\n",
    "\n",
    "mycursor.execute(\"SELECT TABLE_NAME, COLUMN_NAME FROM COLUMNS WHERE TABLE_SCHEMA = 'northwind'\")\n",
    "\n",
    "for x in mycursor:\n",
    "  print(x)\n",
    "  break"
   ]
  },
  {
   "cell_type": "code",
   "execution_count": null,
   "metadata": {},
   "outputs": [],
   "source": [
    "import mysql.connector "
   ]
  },
  {
   "cell_type": "code",
   "execution_count": 29,
   "metadata": {},
   "outputs": [
    {
     "name": "stdout",
     "output_type": "stream",
     "text": [
      "(10865, 17250.0)\n"
     ]
    }
   ],
   "source": [
    "#Extraed el primer pedidos donde se ha gastado más. Devolved el id del pedido y la cantidad gastada\n",
    "query = \"\"\"SELECT order_id, SUM(unit_price * quantity) As total\n",
    "FROM order_details\n",
    "GROUP BY order_id\n",
    "ORDER BY total DESC\n",
    "\"\"\"\n",
    "mydb = mysql.connector.connect(\n",
    "              user='root', password='AlumnaAdalab',\n",
    "              host='127.0.0.1',\n",
    "              database='northwind')\n",
    "mycursor = mydb.cursor()\n",
    "mycursor.execute (query)\n",
    "myresult = mycursor.fetchone()\n",
    "\n",
    "print(myresult)\n",
    "\n"
   ]
  },
  {
   "cell_type": "code",
   "execution_count": null,
   "metadata": {},
   "outputs": [],
   "source": [
    "#Devuelve la misma query que en el anterior ejercicio, pero en este caso devuelve todos los resultados\n",
    "\n",
    "query = \"\"\"SELECT order_id, SUM(unit_price * quantity) As total\n",
    "FROM order_details\n",
    "GROUP BY order_id\n",
    "ORDER BY total DESC\n",
    "\"\"\"\n",
    "mydb = mysql.connector.connect(\n",
    "              user='root', password='AlumnaAdalab',\n",
    "              host='127.0.0.1',\n",
    "              database='northwind')\n",
    "mycursor = mydb.cursor()\n",
    "mycursor.execute (query)\n",
    "myresult = mycursor.fetchall()\n",
    "\n",
    "print(myresult)"
   ]
  },
  {
   "cell_type": "code",
   "execution_count": null,
   "metadata": {},
   "outputs": [],
   "source": [
    "#Extraer los pedidos hechos por \"Nancy Daviolo\". Tendréis que hacer una subquery\n",
    "query = \"\"\"SELECT *\n",
    "FROM orders\n",
    "WHERE employee_id IN (\n",
    "\tSELECT employee_id\n",
    "\tFROM employees\n",
    "\tWHERE first_name = 'Nancy' AND last_name = 'Davolio')\"\"\"\n",
    "\n",
    "mydb = mysql.connector.connect(\n",
    "              user='root', password='AlumnaAdalab',\n",
    "              host='127.0.0.1',\n",
    "              database='northwind')\n",
    "mycursor = mydb.cursor()\n",
    "mycursor.execute(query)\n",
    "myresult = mycursor.fetchall()\n",
    "\n",
    "print(myresult)"
   ]
  },
  {
   "cell_type": "code",
   "execution_count": null,
   "metadata": {},
   "outputs": [],
   "source": [
    "#Extraed el números de pedidos que se hayan hecho por dia. Devuelve los resultados en una dataframe\n",
    "import pandas as pd #primero importo la librería pandas para poder mostrarlo como un dataframe\n",
    "\n",
    "mydb = mysql.connector.connect(\n",
    "              user='root', password='AlumnaAdalab',\n",
    "              host='127.0.0.1',\n",
    "              database='northwind')\n",
    "mycursor = mydb.cursor()\n",
    "mycursor.execute(\"\"\"SELECT count(order_id), order_date\n",
    "FROM orders\n",
    "GROUP BY order_date\n",
    "ORDER BY order_date DESC\n",
    "\"\"\")\n",
    "myresult = mycursor.fetchall()\n",
    "\n",
    "#Se crea un dataframe con los resultados de la consulta SQL almacenados en myresult.\n",
    "df = pd.DataFrame(myresult, columns = ['Total_pedidos', 'Fecha_pedidos'])\n",
    "display(df)\n"
   ]
  },
  {
   "cell_type": "code",
   "execution_count": 35,
   "metadata": {},
   "outputs": [
    {
     "name": "stdout",
     "output_type": "stream",
     "text": [
      "None\n"
     ]
    }
   ],
   "source": [
    "# Desconectad la conexión con el servidor\n",
    "\n",
    "cerrar = mydb.close()\n",
    "\n",
    "print(cerrar)"
   ]
  }
 ],
 "metadata": {
  "kernelspec": {
   "display_name": "Python 3.9.7 ('base')",
   "language": "python",
   "name": "python3"
  },
  "language_info": {
   "codemirror_mode": {
    "name": "ipython",
    "version": 3
   },
   "file_extension": ".py",
   "mimetype": "text/x-python",
   "name": "python",
   "nbconvert_exporter": "python",
   "pygments_lexer": "ipython3",
   "version": "3.9.7"
  },
  "orig_nbformat": 4,
  "vscode": {
   "interpreter": {
    "hash": "8e1f904fe714ccd05b7907fe541d28c2ec20b612a1af6f34d013e1f0fd7aabf1"
   }
  }
 },
 "nbformat": 4,
 "nbformat_minor": 2
}
