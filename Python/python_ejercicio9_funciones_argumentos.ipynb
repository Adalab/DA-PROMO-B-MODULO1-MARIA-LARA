{
 "cells": [
  {
   "cell_type": "code",
   "execution_count": 3,
   "metadata": {},
   "outputs": [],
   "source": [
    "#EJERCICIO: 1\n",
    "\n",
    "#Vamos a crear una \"calculadora de puntos\"\n",
    "#aquí vamos a iterar una lista de operaciones que he guardadao en la variable codigo, los resultados nos los va a ir dejando en otra lista que se llama resultado.\n",
    "\n",
    "\n",
    "codigo = [\"..... + ...............\", \"..... - ...\",\"..... * ...\", \"..... // ..\", \". // ..\", \".. - ..\"]\n",
    "resultado = []\n",
    "for i in codigo:\n",
    "    i2 = i.split()\n",
    "    operador = i2[1]\n",
    "    num1 = i2[0].count(\".\")\n",
    "    num2 = i2[2].count(\".\")\n",
    "\n",
    "    if operador == \"+\" :\n",
    "        suma = num1 + num2\n",
    "        resultado.append(suma * \".\")\n",
    "    elif operador == \"-\" and num1 > num2 :\n",
    "        resta = num1 - num2\n",
    "        resultado.append(resta * \".\")\n",
    "    elif operador == \"-\" and num1 < num2 :\n",
    "        resta = num2 - num1\n",
    "        resultado.append(resta * \".\")\n",
    "    elif operador == \"*\" :\n",
    "        multiplica = num1 * num2\n",
    "        resultado.append(multiplica * \".\")\n",
    "    elif operador == \"//\" and num1 > num2:\n",
    "        divide = num1 // num2\n",
    "        resultado.append(divide * \".\")\n",
    "    elif operador == \"//\"  and num1 < num2:\n",
    "        divide = num2 // num1\n",
    "        resultado.append(divide * \".\")\n",
    "    \n",
    "        \n"
   ]
  },
  {
   "cell_type": "code",
   "execution_count": 4,
   "metadata": {},
   "outputs": [],
   "source": [
    "#Ahora lo vamos a hacer como una función. Le pasa un input con la operación que quieres hacer y te da el resultado en puntos. \n",
    "\n",
    "def calculadora_puntos(operacion):\n",
    "    resultado = []\n",
    "    operacion = operacion.split()\n",
    "    operador = operacion[1]\n",
    "    num1 = operacion[0].count(\".\")\n",
    "    num2 = operacion[2].count(\".\")\n",
    "\n",
    "    if operador == \"+\" :\n",
    "        suma = num1 + num2\n",
    "        resultado.append(suma * \".\")\n",
    "    elif operador == \"-\" and num1 > num2 :\n",
    "        resta = num1 - num2\n",
    "        resultado.append(resta * \".\")\n",
    "    elif operador == \"-\" and num1 < num2 :\n",
    "        resta = num2 - num1\n",
    "        resultado.append(resta * \".\")\n",
    "    elif operador == \"*\" :\n",
    "        multiplica = num1 * num2\n",
    "        resultado.append(multiplica * \".\")\n",
    "    elif operador == \"//\" and num1 > num2:\n",
    "        divide = num1 // num2\n",
    "        resultado.append(divide * \".\")\n",
    "    elif operador == \"//\"  and num1 < num2:\n",
    "        divide = num2 // num1\n",
    "        resultado.append(divide * \".\")\n",
    "    return resultado"
   ]
  },
  {
   "cell_type": "code",
   "execution_count": 6,
   "metadata": {},
   "outputs": [
    {
     "data": {
      "text/plain": [
       "['......']"
      ]
     },
     "execution_count": 6,
     "metadata": {},
     "output_type": "execute_result"
    }
   ],
   "source": [
    "#primero defino la variable del input y luego llamo a la función. Al input hay que darle puntos, espacio, operador, espacio, y más puntos.\n",
    "operacion = input(\"Calculadora de puntos con puntos (PUNTOS-ESPACIO-OPERADOR-PUNTOS).\")\n",
    "\n",
    "calculadora_puntos(operacion)"
   ]
  },
  {
   "cell_type": "code",
   "execution_count": 9,
   "metadata": {},
   "outputs": [],
   "source": [
    "#EJERCICIO 2:\n",
    "year = input(\"¿En qué año nos vimos por útlima vez?\")\n",
    "\n",
    "def numeros(year):\n",
    "    year_list = []\n",
    "    for i in year:\n",
    "        year_list.append(i)\n",
    "        year_set = set(year_list)\n",
    "    if len(year_set) == len(year_list):\n",
    "        print(year)\n",
    "        return year\n",
    "    else:\n",
    "        year_list = []\n",
    "        year = int(year) + 1\n",
    "        numeros(str(year))\n",
    "\n"
   ]
  },
  {
   "cell_type": "code",
   "execution_count": 10,
   "metadata": {},
   "outputs": [
    {
     "name": "stdout",
     "output_type": "stream",
     "text": [
      "7801\n"
     ]
    }
   ],
   "source": [
    "numeros(\"7712\")"
   ]
  },
  {
   "cell_type": "code",
   "execution_count": 12,
   "metadata": {},
   "outputs": [],
   "source": [
    "# EJERCICIO 3:\n",
    "\n",
    "def vida_evaporador (contenido,perdida,umbral):\n",
    "    umbral_ml=(contenido*umbral)/100\n",
    "    dias=0\n",
    "    while contenido >= umbral_ml:\n",
    "         contenido -= (contenido*perdida)/100\n",
    "         dias+=1\n",
    "    print('le quedan',dias, 'dias')\n",
    "        "
   ]
  },
  {
   "cell_type": "code",
   "execution_count": 13,
   "metadata": {},
   "outputs": [
    {
     "name": "stdout",
     "output_type": "stream",
     "text": [
      "le quedan 29 dias\n"
     ]
    }
   ],
   "source": [
    "vida_evaporador(10,10,5)"
   ]
  },
  {
   "cell_type": "code",
   "execution_count": 4,
   "metadata": {},
   "outputs": [],
   "source": [
    "# EJERCICIO 4:\n",
    "\n",
    "def numero_primo (primo):\n",
    "    if primo > 1:\n",
    "        if primo%primo == 0 and primo%1 == 0:\n",
    "            for i in range(2,primo):\n",
    "                if primo%i != 0:\n",
    "                 return('TRUE')\n",
    "                else:\n",
    "                    return('FALSE')\n",
    "        else:\n",
    "            return('FALSE')\n",
    "    else:\n",
    "        return('FALSE')"
   ]
  },
  {
   "cell_type": "code",
   "execution_count": 5,
   "metadata": {},
   "outputs": [
    {
     "data": {
      "text/plain": [
       "'FALSE'"
      ]
     },
     "execution_count": 5,
     "metadata": {},
     "output_type": "execute_result"
    }
   ],
   "source": [
    "numero_primo(4)"
   ]
  },
  {
   "cell_type": "code",
   "execution_count": 26,
   "metadata": {},
   "outputs": [],
   "source": [
    "# EJERCICIO 5:\n",
    "\n",
    "from pyparsing import empty\n",
    "\n",
    "\n",
    "def likes (lista):\n",
    "    lista_personas=[]\n",
    "    if lista is empty:\n",
    "        return('A nadie le gusta esto.')\n",
    "    elif len(lista)==2:\n",
    "        print('A',lista[0],'y',lista[1],'les gusta esto.')\n",
    "    elif len(lista)==1:\n",
    "        print('A',lista[0],'le gusta esto.')\n",
    "    elif len(lista)>2:\n",
    "        restantes= len(lista)-2\n",
    "        print('A',lista[0],',',lista[1],'y',restantes,'más les gusta esto.')\n",
    "\n",
    "   "
   ]
  },
  {
   "cell_type": "code",
   "execution_count": 29,
   "metadata": {},
   "outputs": [
    {
     "name": "stdout",
     "output_type": "stream",
     "text": [
      "A lara y ana les gusta esto.\n"
     ]
    }
   ],
   "source": [
    "likes(['lara','ana'])\n"
   ]
  }
 ],
 "metadata": {
  "kernelspec": {
   "display_name": "Python 3.10.5 64-bit",
   "language": "python",
   "name": "python3"
  },
  "language_info": {
   "codemirror_mode": {
    "name": "ipython",
    "version": 3
   },
   "file_extension": ".py",
   "mimetype": "text/x-python",
   "name": "python",
   "nbconvert_exporter": "python",
   "pygments_lexer": "ipython3",
   "version": "3.10.5"
  },
  "orig_nbformat": 4,
  "vscode": {
   "interpreter": {
    "hash": "0adb82060a9e8277a0ab7cf318d2b014ae15a0943de91cc19dddffdec6eb64ba"
   }
  }
 },
 "nbformat": 4,
 "nbformat_minor": 2
}
