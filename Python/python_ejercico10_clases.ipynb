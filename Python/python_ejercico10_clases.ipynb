{
 "cells": [
  {
   "cell_type": "code",
   "execution_count": 1,
   "metadata": {},
   "outputs": [],
   "source": [
    "#creamos la clase Empleados, pero de momento la creamos vacía\n",
    "\n",
    "class Empleados:\n",
    "    pass"
   ]
  },
  {
   "cell_type": "code",
   "execution_count": 2,
   "metadata": {},
   "outputs": [],
   "source": [
    "#aunque la hayamos creado vacía, ya podemos crear nuestra primera instancia\n",
    "\n",
    "berta = Empleados"
   ]
  },
  {
   "cell_type": "code",
   "execution_count": 13,
   "metadata": {},
   "outputs": [],
   "source": [
    "#ahora vamos a crearla con todo, constructo, y métodos.\n",
    "\n",
    "class Empleados:\n",
    "    def __init__ (self, nombre, apellido, edad, posicion, antiguedad, vacaciones_dias, dominio):\n",
    "        self.nombre = nombre\n",
    "        self.apellido = apellido\n",
    "        self.edad = edad\n",
    "        self.posicion = posicion\n",
    "        self.antiguedad = antiguedad\n",
    "        self.vacaciones_dias = vacaciones_dias\n",
    "        self.dominio = dominio\n",
    "\n",
    "    def descripcion(self):\n",
    "        return (f\"Ella es {self.nombre} {self.apellido}, {self.posicion}. Lleva en la empresa desde {self.antiguedad}. Este año le quedan {self.vacaciones_dias} días de vacaciones.\")\n",
    "\n",
    "    def calculo_vacaciones(self): \n",
    "        pide_vacaciones = int(input(\"¿Cuántos días quieres de vacaciones?\"))\n",
    "        \n",
    "        if self.vacaciones_dias == 0:\n",
    "            return (\"Lo siento, no te quedan días de vacaciones.\")\n",
    "        elif pide_vacaciones <= self.vacaciones_dias:\n",
    "            self.vacaciones_dias = self.vacaciones_dias - pide_vacaciones\n",
    "            return (f\"Ok, puedes cogerte los días, te quedan {self.vacaciones_dias} de vacaciones este año.\") \n",
    "        else:\n",
    "            return (f\"Lo siento, sólo te quedan {self.vacaciones_dias} días de vacaciones este año.\")\n",
    "    \n",
    "    def cambiando_posicion(self):\n",
    "        for i in self.dominio:\n",
    "            if i == \"Python\":\n",
    "                return (\"Felicidades, sigue usando Python\")\n",
    "            elif i == \"Excel\" :\n",
    "                return (\"Deja Excel y pásate a Python, notarás la diferencia! :) \")\n",
    "            else:\n",
    "                return (\"Necesitas conocer Python para crecer en esta empresa y en tu vida. ánimo!\")\n",
    "\n",
    "\n",
    "\n",
    "\n",
    "        "
   ]
  },
  {
   "cell_type": "code",
   "execution_count": 14,
   "metadata": {},
   "outputs": [],
   "source": [
    "#tenemos que volver a crear la instancia para la clase que acabamos de crear, con todos los parámetros que nos solicita.\n",
    "\n",
    "berta = Empleados(\"Berta\", \"Suárez\", 25, \"Manager\", \"2019/05/13\",28, [\"Python\", \"SQL\"])"
   ]
  },
  {
   "cell_type": "code",
   "execution_count": 15,
   "metadata": {},
   "outputs": [
    {
     "data": {
      "text/plain": [
       "'Felicidades, sigue usando Python'"
      ]
     },
     "execution_count": 15,
     "metadata": {},
     "output_type": "execute_result"
    }
   ],
   "source": [
    "#probamos los métodos que hemos creado.\n",
    "\n",
    "berta.cambiando_posicion()"
   ]
  },
  {
   "cell_type": "code",
   "execution_count": 16,
   "metadata": {},
   "outputs": [
    {
     "data": {
      "text/plain": [
       "'Ok, puedes cogerte los días, te quedan 3 de vacaciones este año.'"
      ]
     },
     "execution_count": 16,
     "metadata": {},
     "output_type": "execute_result"
    }
   ],
   "source": [
    "#el detalle de este es que hemos tenido que modificar el tipo del input, ya que por defecto es un string y necesitamos que sea un int para hacer cuentas con él.\n",
    "\n",
    "berta.calculo_vacaciones()"
   ]
  },
  {
   "cell_type": "code",
   "execution_count": 17,
   "metadata": {},
   "outputs": [
    {
     "data": {
      "text/plain": [
       "'Ella es Berta Suárez, Manager. Lleva en la empresa desde 2019/05/13. Este año le quedan 3 días de vacaciones.'"
      ]
     },
     "execution_count": 17,
     "metadata": {},
     "output_type": "execute_result"
    }
   ],
   "source": [
    "berta.descripcion()"
   ]
  }
 ],
 "metadata": {
  "kernelspec": {
   "display_name": "Python 3.10.5 64-bit",
   "language": "python",
   "name": "python3"
  },
  "language_info": {
   "codemirror_mode": {
    "name": "ipython",
    "version": 3
   },
   "file_extension": ".py",
   "mimetype": "text/x-python",
   "name": "python",
   "nbconvert_exporter": "python",
   "pygments_lexer": "ipython3",
   "version": "3.10.5"
  },
  "orig_nbformat": 4,
  "vscode": {
   "interpreter": {
    "hash": "0adb82060a9e8277a0ab7cf318d2b014ae15a0943de91cc19dddffdec6eb64ba"
   }
  }
 },
 "nbformat": 4,
 "nbformat_minor": 2
}
