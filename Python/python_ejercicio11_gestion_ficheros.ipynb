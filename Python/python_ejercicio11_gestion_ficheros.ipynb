{
 "cells": [
  {
   "cell_type": "code",
   "execution_count": 1,
   "metadata": {},
   "outputs": [],
   "source": [
    "import os"
   ]
  },
  {
   "cell_type": "code",
   "execution_count": 54,
   "metadata": {},
   "outputs": [],
   "source": [
    "# FUNCION 1\n",
    "\n",
    "def crear_2carpetas (nombre_carpeta1, nombre_carpeta2, nuevo_nombre):\n",
    "\n",
    "    \n",
    "# creamos la primera carpeta\n",
    "    ruta = os.getcwd()\n",
    "    if nombre_carpeta1 not in ruta:\n",
    "        \n",
    "        os.mkdir(nombre_carpeta1)\n",
    "        print(f\"{nombre_carpeta1} creada en {ruta}.\")\n",
    "            \n",
    "    else :\n",
    "        print(f\"{nombre_carpeta1} Esta carpeta ya existe, debes darle un nuevo nombre.\")\n",
    "           \n",
    "\n",
    "# nos colocamos en la primera carpeta y creamos la segunda carpeta\n",
    "    os.chdir(f\"./{nombre_carpeta1}\")\n",
    "    ruta2 = os.getcwd()\n",
    "    if nombre_carpeta2 not in ruta2 :\n",
    "\n",
    "        os.mkdir(nombre_carpeta2)\n",
    "        print(f\"{nombre_carpeta2} creada en\" + f\"./{nombre_carpeta1}\")\n",
    "            \n",
    "\n",
    "    else:\n",
    "        print(f\"{nombre_carpeta2} Esta carpeta ya existe, debes darle un nuevo nombre.\")\n",
    "            \n",
    "# cambiamos nuestra posición a la carpeta \"datos\" (nombre_carpeta2) y printeamos nuestra nueva ruta\n",
    "    os.chdir(f\"./{nombre_carpeta2}\")\n",
    "    ruta3 = os.getcwd()\n",
    "    print(f\"Ahora mismo estás en esta carpeta {ruta3}\")\n",
    "\n",
    "# renombramos la carpeta \"aprendiendo_ficheros\"(nombre_carpeta1) con el tercer argumento \"nuevo_nombre\"\n",
    "\n",
    "    os.chdir(ruta)\n",
    "    if nuevo_nombre not in ruta :\n",
    "\n",
    "        os.rename(nombre_carpeta1, nuevo_nombre)\n",
    "        print(f\"Tu carpeta {nombre_carpeta1}, ahora se llama {nuevo_nombre}\")    \n",
    "\n",
    "    else:\n",
    "        print(f\"{nuevo_nombre} Esta carpeta ya existe, debes darle un nuevo nombre.\")\n",
    "    \n",
    "   \n",
    "\n"
   ]
  },
  {
   "cell_type": "code",
   "execution_count": 55,
   "metadata": {},
   "outputs": [
    {
     "name": "stdout",
     "output_type": "stream",
     "text": [
      "aprendiendo_ficheros creada en /home/cachito/Adalab/PairProgramming/DA-PROMO-B-MODULO1-MARIA-LARA/Python.\n",
      "datos creada en./aprendiendo_ficheros\n",
      "Ahora mismo estás en esta carpeta /home/cachito/Adalab/PairProgramming/DA-PROMO-B-MODULO1-MARIA-LARA/Python/aprendiendo_ficheros/datos\n",
      "Tu carpeta aprendiendo_ficheros, ahora se llama primera_toma_contacto\n"
     ]
    }
   ],
   "source": [
    "crear_2carpetas (\"aprendiendo_ficheros\", \"datos\", \"primera_toma_contacto\")"
   ]
  },
  {
   "cell_type": "code",
   "execution_count": 37,
   "metadata": {},
   "outputs": [],
   "source": [
    "\n",
    "# Me gusta la idea de hacer una función genérica que cree una carpeta, así luego puedo añadirla a una clase de trabajo con carpetas.\n",
    "\n",
    "def crear_carpeta(nombre_carpeta):\n",
    "\n",
    "    ruta = os.getcwd()\n",
    "    x = input(f\"¿Quieres crear {nombre_carpeta} en esta ruta {ruta} ? Y/N\")\n",
    "\n",
    "    if x.upper()== \"Y\":\n",
    "        try:\n",
    "            os.mkdir(nombre_carpeta)\n",
    "            print(f\"{nombre_carpeta} creada en {ruta}.\")\n",
    "            os.chdir(nombre_carpeta)\n",
    "            \n",
    "\n",
    "        except FileExistsError:\n",
    "            xx= input(\"Esta carpeta ya existe, puedes darle un nuevo nombre.\")\n",
    "            crear_carpeta(xx)\n",
    "    \n",
    "    else :\n",
    "        return print(\"No has creado ninguna carpeta.\")\n",
    "\n",
    "    \n"
   ]
  },
  {
   "cell_type": "code",
   "execution_count": null,
   "metadata": {},
   "outputs": [],
   "source": [
    "# función genérica para  renombrar carpetas, (sólo un argumento)\n",
    "\n",
    "def renombrar_carpeta(nuevo_nombre):\n",
    "    ruta = os.getcwd()\n",
    "    x = input(f\"¿Quieres renombrar {ruta} con este nuevo nombre {nuevo_nombre} ? Y/N\")\n",
    "\n",
    "    if x.upper()== \"Y\":\n",
    "        try:\n",
    "            os.rename(nuevo_nombre)\n",
    "            print(f\"Carpeta renombrada como{nuevo_nombre} en la siguiente ruta: {ruta}.\")\n",
    "            \n",
    "        except FileExistsError:\n",
    "            xx= input(\"Esta carpeta ya existe, puedes darle un nuevo nombre.\")\n",
    "            renombrar_carpeta(xx)\n",
    "    \n",
    "    else :\n",
    "        return print(\"No has renombrado ninguna carpeta.\")\n",
    "\n"
   ]
  },
  {
   "cell_type": "code",
   "execution_count": 69,
   "metadata": {},
   "outputs": [
    {
     "data": {
      "text/plain": [
       "'/home/cachito/Adalab/PairProgramming/DA-PROMO-B-MODULO1-MARIA-LARA/Python'"
      ]
     },
     "execution_count": 69,
     "metadata": {},
     "output_type": "execute_result"
    }
   ],
   "source": [
    "os.getcwd()\n",
    "\n"
   ]
  },
  {
   "cell_type": "code",
   "execution_count": 70,
   "metadata": {},
   "outputs": [
    {
     "data": {
      "text/plain": [
       "['python_ejercicio11_gestion_ficheros.ipynb',\n",
       " 'python_ejercico10_clases.ipynb',\n",
       " 'python_ejercicio9_funciones_argumentos.ipynb',\n",
       " 'primera_toma_contacto',\n",
       " 'python_ejercicio8_funciones_intro.ipynb',\n",
       " 'python_ejercicio12_expresiones_regulares.ipynb',\n",
       " '.ipynb_checkpoints']"
      ]
     },
     "execution_count": 70,
     "metadata": {},
     "output_type": "execute_result"
    }
   ],
   "source": [
    "os.listdir()"
   ]
  },
  {
   "cell_type": "code",
   "execution_count": 72,
   "metadata": {},
   "outputs": [],
   "source": [
    "os.chdir(\"./primera_toma_contacto\")"
   ]
  },
  {
   "cell_type": "code",
   "execution_count": 74,
   "metadata": {},
   "outputs": [],
   "source": [
    "os.chdir(\"./datos\")"
   ]
  },
  {
   "cell_type": "code",
   "execution_count": 77,
   "metadata": {},
   "outputs": [],
   "source": [
    "abrefichero = open(\"./saludo.txt\")"
   ]
  },
  {
   "cell_type": "code",
   "execution_count": 78,
   "metadata": {},
   "outputs": [
    {
     "data": {
      "text/plain": [
       "'Hola Adalabers!!!\\n\\nEstamos en la sesión de pair-programming para familiarizarnos con la gestión de carpetas y ficheros desde Python 🙂🌊\\n\\nEsto esta siendo suuuper divertidooooo'"
      ]
     },
     "execution_count": 78,
     "metadata": {},
     "output_type": "execute_result"
    }
   ],
   "source": [
    "abrefichero.read()"
   ]
  }
 ],
 "metadata": {
  "kernelspec": {
   "display_name": "Python 3.9.7 ('base')",
   "language": "python",
   "name": "python3"
  },
  "language_info": {
   "codemirror_mode": {
    "name": "ipython",
    "version": 3
   },
   "file_extension": ".py",
   "mimetype": "text/x-python",
   "name": "python",
   "nbconvert_exporter": "python",
   "pygments_lexer": "ipython3",
   "version": "3.9.7"
  },
  "orig_nbformat": 4,
  "vscode": {
   "interpreter": {
    "hash": "8e1f904fe714ccd05b7907fe541d28c2ec20b612a1af6f34d013e1f0fd7aabf1"
   }
  }
 },
 "nbformat": 4,
 "nbformat_minor": 2
}
