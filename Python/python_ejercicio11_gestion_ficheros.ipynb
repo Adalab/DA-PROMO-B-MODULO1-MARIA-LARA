{
 "cells": [
  {
   "cell_type": "code",
   "execution_count": 25,
   "metadata": {},
   "outputs": [],
   "source": [
    "# FUNCIÓN 1:\n",
    "\n",
    "import os \n",
    "\n",
    "def crear_mover(primera,segunda,nuevo):\n",
    "    nombre= primera\n",
    "    ruta= os.getcwd()\n",
    "    if nombre not in os.listdir():\n",
    "        ruta=ruta+'\\\\'+nombre\n",
    "        os.mkdir(ruta)\n",
    "    else:\n",
    "        nombre=nombre + '1'\n",
    "        ruta=ruta+'\\\\'+nombre\n",
    "        os.mkdir(ruta)\n",
    "\n",
    "    nombre=segunda\n",
    "    if nombre not in os.listdir():\n",
    "        ruta=ruta+'\\\\'+nombre\n",
    "        os.mkdir(ruta)\n",
    "    else:\n",
    "        nombre=nombre + '1'\n",
    "        ruta=ruta+'\\\\'+nombre\n",
    "        os.mkdir(ruta)\n",
    "\n",
    "    \n",
    "    \n"
   ]
  },
  {
   "cell_type": "code",
   "execution_count": 26,
   "metadata": {},
   "outputs": [],
   "source": [
    "crear_mover('aprendiendo-ficheros','datos','a')"
   ]
  },
  {
   "cell_type": "code",
   "execution_count": null,
   "metadata": {},
   "outputs": [],
   "source": [
    "# busqueda de gooogle:\n",
    "\n",
    "import os\n",
    " \n",
    "file_source = 'Path/Of/Directory'\n",
    "file_destination = 'Path/Of/Directory'\n",
    " \n",
    "get_files = os.listdir(file_source)\n",
    " \n",
    "for g in get_files:\n",
    "    os.replace(file_source + g, file_destination + g)\n",
    "os.replace(file_source + g, file_destination + g)\n"
   ]
  }
 ],
 "metadata": {
  "kernelspec": {
   "display_name": "Python 3.10.5 64-bit",
   "language": "python",
   "name": "python3"
  },
  "language_info": {
   "codemirror_mode": {
    "name": "ipython",
    "version": 3
   },
   "file_extension": ".py",
   "mimetype": "text/x-python",
   "name": "python",
   "nbconvert_exporter": "python",
   "pygments_lexer": "ipython3",
   "version": "3.10.5"
  },
  "orig_nbformat": 4,
  "vscode": {
   "interpreter": {
    "hash": "0adb82060a9e8277a0ab7cf318d2b014ae15a0943de91cc19dddffdec6eb64ba"
   }
  }
 },
 "nbformat": 4,
 "nbformat_minor": 2
}
