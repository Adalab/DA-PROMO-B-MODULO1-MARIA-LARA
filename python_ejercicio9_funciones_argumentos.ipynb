{
 "cells": [
  {
   "cell_type": "code",
   "execution_count": null,
   "metadata": {},
   "outputs": [],
   "source": [
    "#EJERCICIO: 1\n",
    "\n",
    "#Vamos a crear una \"calculadora de puntos\"\n",
    "#aquí vamos a iterar una lista de operaciones que he guardadao en la variable codigo, los resultados nos los va a ir dejando en otra lista que se llama resultado.\n",
    "\n",
    "\n",
    "codigo = [\"..... + ...............\", \"..... - ...\",\"..... * ...\", \"..... // ..\", \". // ..\", \".. - ..\"]\n",
    "resultado = []\n",
    "for i in codigo:\n",
    "    i2 = i.split()\n",
    "    operador = i2[1]\n",
    "    num1 = i2[0].count(\".\")\n",
    "    num2 = i2[2].count(\".\")\n",
    "\n",
    "    if operador == \"+\" :\n",
    "        suma = num1 + num2\n",
    "        resultado.append(suma * \".\")\n",
    "    elif operador == \"-\" and num1 > num2 :\n",
    "        resta = num1 - num2\n",
    "        resultado.append(resta * \".\")\n",
    "    elif operador == \"-\" and num1 < num2 :\n",
    "        resta = num2 - num1\n",
    "        resultado.append(resta * \".\")\n",
    "    elif operador == \"*\" :\n",
    "        multiplica = num1 * num2\n",
    "        resultado.append(multiplica * \".\")\n",
    "    elif operador == \"//\" and num1 > num2:\n",
    "        divide = num1 // num2\n",
    "        resultado.append(divide * \".\")\n",
    "    elif operador == \"//\"  and num1 < num2:\n",
    "        divide = num2 // num1\n",
    "        resultado.append(divide * \".\")\n",
    "    \n",
    "        \n"
   ]
  },
  {
   "cell_type": "code",
   "execution_count": 79,
   "metadata": {},
   "outputs": [],
   "source": [
    "#Ahora lo vamos a hacer como una función. Le pasa un input con la operación que quieres hacer y te da el resultado en puntos. \n",
    "\n",
    "def calculadora_puntos(operacion):\n",
    "    resultado = []\n",
    "    operacion = operacion.split()\n",
    "    operador = operacion[1]\n",
    "    num1 = operacion[0].count(\".\")\n",
    "    num2 = operacion[2].count(\".\")\n",
    "\n",
    "    if operador == \"+\" :\n",
    "        suma = num1 + num2\n",
    "        resultado.append(suma * \".\")\n",
    "    elif operador == \"-\" and num1 > num2 :\n",
    "        resta = num1 - num2\n",
    "        resultado.append(resta * \".\")\n",
    "    elif operador == \"-\" and num1 < num2 :\n",
    "        resta = num2 - num1\n",
    "        resultado.append(resta * \".\")\n",
    "    elif operador == \"*\" :\n",
    "        multiplica = num1 * num2\n",
    "        resultado.append(multiplica * \".\")\n",
    "    elif operador == \"//\" and num1 > num2:\n",
    "        divide = num1 // num2\n",
    "        resultado.append(divide * \".\")\n",
    "    elif operador == \"//\"  and num1 < num2:\n",
    "        divide = num2 // num1\n",
    "        resultado.append(divide * \".\")\n",
    "    return resultado"
   ]
  },
  {
   "cell_type": "code",
   "execution_count": null,
   "metadata": {},
   "outputs": [],
   "source": [
    "#primero defino la variable del input y luego llamo a la función. Al input hay que darle puntos, espacio, operador, espacio, y más puntos.\n",
    "operacion = input(\"Calcula puntos con puntos.\")\n",
    "\n",
    "calculadora_puntos(operacion)"
   ]
  },
  {
   "cell_type": "code",
   "execution_count": null,
   "metadata": {},
   "outputs": [],
   "source": [
    "#EJERCICIO 2:\n",
    "year = input(\"¿En qué año nos vimos por útlima vez?\")\n",
    "\n",
    "def numeros(year):\n",
    "    year_list = []\n",
    "    for i in year:\n",
    "        year_list.append(i)\n",
    "        year_set = set(year_list)\n",
    "    if len(year_set) == len(year_list):\n",
    "        print(year)\n",
    "        return year\n",
    "    else:\n",
    "        year_list = []\n",
    "        year = int(year) + 1\n",
    "        numeros(str(year))\n",
    "\n"
   ]
  },
  {
   "cell_type": "code",
   "execution_count": null,
   "metadata": {},
   "outputs": [],
   "source": [
    "numeros(\"7712\")"
   ]
  }
 ],
 "metadata": {
  "kernelspec": {
   "display_name": "Python 3.9.7 ('base': conda)",
   "language": "python",
   "name": "python3"
  },
  "language_info": {
   "codemirror_mode": {
    "name": "ipython",
    "version": 3
   },
   "file_extension": ".py",
   "mimetype": "text/x-python",
   "name": "python",
   "nbconvert_exporter": "python",
   "pygments_lexer": "ipython3",
   "version": "3.9.7"
  },
  "orig_nbformat": 4,
  "vscode": {
   "interpreter": {
    "hash": "8e1f904fe714ccd05b7907fe541d28c2ec20b612a1af6f34d013e1f0fd7aabf1"
   }
  }
 },
 "nbformat": 4,
 "nbformat_minor": 2
}
